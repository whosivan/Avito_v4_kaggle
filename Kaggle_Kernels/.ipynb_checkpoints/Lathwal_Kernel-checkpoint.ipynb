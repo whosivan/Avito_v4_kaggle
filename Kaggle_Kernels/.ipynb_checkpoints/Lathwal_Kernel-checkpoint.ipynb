{
 "cells": [
  {
   "cell_type": "markdown",
   "metadata": {
    "_cell_guid": "7950e986-49fe-41bd-bd55-59b0730626e3",
    "_uuid": "6c051e18bbcc88808e776859e31c6850c4fae940"
   },
   "source": [
    "![](http://www.ewdn.com/wp-content/uploads/sites/6/2017/02/logo-avito.png)"
   ]
  },
  {
   "cell_type": "markdown",
   "metadata": {
    "_cell_guid": "64c93e3e-246f-4e61-8715-e02005f5d7bb",
    "_uuid": "e15d90e0cadcd27181b3940f16b149047171c175"
   },
   "source": [
    "# More To Come. Stay Tuned. !!\n",
    "If there are any suggestions/changes you would like to see in the Kernel please let me know :). Appreciate every ounce of help!\n",
    "\n",
    "**This notebook will always be a work in progress**. Please leave any comments about further improvements to the notebook! Any feedback or constructive criticism is greatly appreciated!. **If you like it or it helps you , you can upvote and/or leave a comment :).**\n",
    "\n",
    "I am using [Yandex Translate](https://translate.yandex.com/?lang=ru-en&text=Челябинск) for converting russian language to english language.\n"
   ]
  },
  {
   "cell_type": "markdown",
   "metadata": {
    "_cell_guid": "2915dddf-e489-441f-b02f-591b665899a7",
    "_uuid": "51440646d952764a8d55c59df725c99c8a7fedd2"
   },
   "source": [
    "- <a href='#intro'>1. Introduction</a>  \n",
    "- <a href='#rtd'>2. Retrieving the Data</a>\n",
    "     - <a href='#ll'>2.1 Load libraries</a>\n",
    "     - <a href='#rrtd'>2.2 Read the Data</a>\n",
    "- <a href='#god'>3. Glimpse of Data</a>\n",
    "     - <a href='#oot'>3.1 Overview of tables</a>\n",
    "     - <a href='#sootd'>3.2 Statistical overview of the Data</a>\n",
    "- <a href='#dp'>4. Data preparation</a>\n",
    "     - <a href='#cfmd'> 4.1 Check for missing data</a>\n",
    "- <a href='#de'>5. Data Exploration</a>\n",
    "    - <a href='#hadodp'>5.1 Histogram and distribution of deal probability</a>\n",
    "    - <a href='#hadoap'>5.2 Histogram and distribution of Ad price</a>\n",
    "    - <a href='#dodar'>5.3 Distribution of differnet Ad regions</a>\n",
    "    - <a href='#t'>5.4 Top 10</a> \n",
    "        - <a href='#ttat'>5.4.1 Top 10 Ad titles</a>\n",
    "        - <a href='#ttac'>5.4.2 Top 10 Ad city</a>\n",
    "        - <a href='#ttara'>5.4.3 Top 10 Ad regions</a>\n",
    "        - <a href='#tttlcalm'>5.4.4 Top 10 Fine grain ad category as classified by Avito's ad mode</a>\n",
    "        - <a href='#ttlcmsd'>5.4.5 Top 10 Top level ad category as classified by Avito's ad model</a>\n",
    "    - <a href='#pvdpp'>5.5 Price V.S. Deal probability</a>\n",
    "    - <a href='#5-6'>5.6 Deal probability V.S.  Price for regions</a>\n",
    "    - <a href='#dout'>5.7 Distribution of user type</a>\n",
    "    - <a href='#mdodadr'>5.8 Monthly distribution of Ad prices in different regions </a>\n",
    "    - <a href='#dorpdp'>5.9 Distribution of regions, per deal probability</a>\n",
    "    - <a href='#tkfad'>5.10 Top Keywords from Ad description</a>\n",
    "    - <a href='#toapaa'>5.10 Time Series Analysis</a>\n",
    "    - <a href='#5-11'>5.11 Ad sequential number for user V.S. deal probability</a>\n",
    "    - <a href='#5-12'>5.12 Deal probability V.S. Ad sequential number for user for regions</a>\n",
    "    - <a href='#5-13'>5.13 Number of words in description column</a>\n",
    "    - <a href='#vdcgv'>5.14 Venn Diagrams(Common Features values in training and test data)</a>\n",
    "    - <a href='#toapaa'>5.15 Time series Analysis</a>\n",
    "        - <a href='#toadp'>5.15.1 Trend of Ad price</a>\n",
    "        - <a href='#paetsd'>5.15.2 Price average every two days</a>\n",
    "        - <a href='#paeed'>5.15.3 Price average every day</a>\n",
    "        - <a href='#dapevtr'>5.15.4 deal probability average every two days</a>\n",
    "        - <a href='#dapevtttr'>5.15.5 Deal probability average every  days</a>\n",
    "        - <a href='#tnodawdjshhs'>5.15.6 Total number of days a Ad was dispalyed when it was posted on particular day</a>\n",
    "        - <a href='#fodsbdir'>5.15.7  frequency and pattern of ad activation date in train and test data</a>\n",
    "- <a href='#5-15'>6. Feature Engineering</a>    \n",
    "    - <a href='#5-15-1'>6.1 Features created from activation_date </a>\n",
    "    - <a href='#5-15-2'>6.2 Featrues created from Ad description</a>\n",
    "    - <a href='#5-15-3'>6.3 Converting Categorical featues to numericals features</a>\n",
    "    - <a href='#5-15-4'>6.4  Removing Unwanted features</a>\n",
    "- <a href='#5-16'>7 Pearson Correlation of features</a>\n",
    "- <a href='#5-17'>8 Feature importance via Gradient Boosting model</a>\n",
    "- <a href='#5-18'>9 Decision Tree Visualisation</a>\n",
    "- <a href='#bsc'>10. Brief summary and conclusion </a>"
   ]
  },
  {
   "cell_type": "markdown",
   "metadata": {
    "_cell_guid": "41829d79-700f-4db4-863a-ea098b2d4c89",
    "_uuid": "e194ee6814bf372fe5adc3ca089cf6b8590bdbb6"
   },
   "source": [
    "# <a id='intro'>1. Introduction</a>  "
   ]
  },
  {
   "cell_type": "markdown",
   "metadata": {
    "_cell_guid": "ae823b4a-5509-471d-88d8-36881ee95dd5",
    "_uuid": "de85cca8a9fba81f0922964b51119749df18a90e"
   },
   "source": [
    "Avito, Russia’s largest classified advertisements website, is deeply familiar with this problem. Sellers on their platform sometimes feel frustrated with both too little demand (indicating something is wrong with the product or the product listing) or too much demand (indicating a hot item with a good description was underpriced).\n",
    "\n",
    "In their fourth Kaggle competition, Avito is challenging you to predict demand for an online advertisement based on its full description (title, description, images, etc.), its context (geographically where it was posted, similar ads already posted) and historical demand for similar ads in similar contexts. With this information, Avito can inform sellers on how to best optimize their listing and provide some indication of how much interest they should realistically expect to receive."
   ]
  },
  {
   "cell_type": "markdown",
   "metadata": {
    "_cell_guid": "ea86dbe2-8db9-4486-82df-6bb56a4fbb83",
    "_uuid": "746605b4858f9c058ea711397e5322648d82facb"
   },
   "source": [
    "# <a id='rtd'>2. Retrieving the Data</a>\n",
    "## <a id='ll'>2.1 Load libraries</a>"
   ]
  },
  {
   "cell_type": "code",
   "execution_count": null,
   "metadata": {
    "_cell_guid": "b1076dfc-b9ad-4769-8c92-a6c4dae69d19",
    "_kg_hide-input": true,
    "_uuid": "8f2839f25d086af736a60e9eeb907d3b93b6e0e5",
    "collapsed": true
   },
   "outputs": [],
   "source": [
    "import pandas as pd # package for high-performance, easy-to-use data structures and data analysis\n",
    "import numpy as np # fundamental package for scientific computing with Python\n",
    "import matplotlib\n",
    "import matplotlib.pyplot as plt # for plotting\n",
    "import seaborn as sns # for making plots with seaborn\n",
    "color = sns.color_palette()\n",
    "import plotly.offline as py\n",
    "py.init_notebook_mode(connected=True)\n",
    "from plotly.offline import init_notebook_mode, iplot\n",
    "init_notebook_mode(connected=True)\n",
    "import plotly.graph_objs as go\n",
    "import plotly.offline as offline\n",
    "offline.init_notebook_mode()\n",
    "import plotly.tools as tls\n",
    "import squarify\n",
    "from mpl_toolkits.basemap import Basemap\n",
    "from numpy import array\n",
    "from matplotlib import cm\n",
    "\n",
    "from sklearn import preprocessing\n",
    "# Supress unnecessary warnings so that presentation looks clean\n",
    "import warnings\n",
    "warnings.filterwarnings(\"ignore\")\n",
    "\n",
    "# Print all rows and columns\n",
    "pd.set_option('display.max_columns', None)\n",
    "pd.set_option('display.max_rows', None)\n",
    "\n",
    "from nltk.corpus import stopwords\n",
    "from textblob import TextBlob\n",
    "import datetime as dt\n",
    "import warnings\n",
    "import string\n",
    "import time\n",
    "# stop_words = []\n",
    "stop_words = list(set(stopwords.words('russian')))\n",
    "warnings.filterwarnings('ignore')\n",
    "punctuation = string.punctuation\n",
    "\n",
    "# Plotting Decision tree\n",
    "from sklearn import tree\n",
    "from IPython.display import Image as PImage\n",
    "from subprocess import check_call\n",
    "from PIL import Image, ImageDraw, ImageFont\n",
    "import re\n",
    "\n",
    "# Venn diagram\n",
    "from matplotlib_venn import venn2"
   ]
  },
  {
   "cell_type": "markdown",
   "metadata": {
    "_cell_guid": "a5bae02a-0957-45b3-9070-a5ca666d6abd",
    "_uuid": "a65c908f4932c6b82bd55f5c6f0d950f505907f3"
   },
   "source": [
    "## <a id='rrtd'>2.2 Read the Data</a>"
   ]
  },
  {
   "cell_type": "code",
   "execution_count": null,
   "metadata": {
    "_cell_guid": "79c7e3d0-c299-4dcb-8224-4455121ee9b0",
    "_kg_hide-input": true,
    "_uuid": "d629ff2d2480ee46fbb7e2d37f6b5fab8052498a",
    "collapsed": true
   },
   "outputs": [],
   "source": [
    "print(\"Reading Data......\")\n",
    "periods_test = pd.read_csv('../input/periods_test.csv', parse_dates=[\"activation_date\", \"date_from\", \"date_to\"])\n",
    "periods_train = pd.read_csv('../input/../input/periods_train.csv', parse_dates=[\"activation_date\", \"date_from\", \"date_to\"])\n",
    "test = pd.read_csv('../input/test.csv')\n",
    "train = pd.read_csv('../input/train.csv')\n",
    "print(\"Reading Done....\")\n",
    "# train_active = pd.read_csv('../input/train_active.csv')\n",
    "# test_active = pd.read_csv('../input/test_active.csv')"
   ]
  },
  {
   "cell_type": "code",
   "execution_count": null,
   "metadata": {
    "_cell_guid": "2ad51a30-db88-4ea5-9430-5077212e81ca",
    "_kg_hide-input": true,
    "_uuid": "24e8932ef3663d3f080e8cdabdb37885c9d23849",
    "collapsed": true
   },
   "outputs": [],
   "source": [
    "print(\"size of train data\", train.shape)\n",
    "print(\"size of test data\", test.shape)\n",
    "print(\"size of periods_train data\", periods_train.shape)\n",
    "print(\"size of periods_test data\", periods_test.shape)"
   ]
  },
  {
   "cell_type": "markdown",
   "metadata": {
    "_cell_guid": "94666ad1-d315-498f-bc52-150a427cfc6e",
    "_uuid": "2726a6037513175e52687ad902fb256d30988d90"
   },
   "source": [
    "# <a id='god'>3. Glimpse of Data</a>\n",
    "## <a id='oot'>3.1 Overview of tables</a>"
   ]
  },
  {
   "cell_type": "markdown",
   "metadata": {
    "_cell_guid": "bbc19b3a-f020-44c4-a6c9-ff07a67420b9",
    "_uuid": "fc2e96f7e72659b1fdddb7331284862e20c844f3"
   },
   "source": [
    "**train data**"
   ]
  },
  {
   "cell_type": "code",
   "execution_count": null,
   "metadata": {
    "_cell_guid": "29a5ad42-d921-45f4-a832-97a904882430",
    "_kg_hide-input": true,
    "_uuid": "09bdd50325c8973ce2c88bf0320b965244ce9b87",
    "collapsed": true,
    "scrolled": false
   },
   "outputs": [],
   "source": [
    "train.head()"
   ]
  },
  {
   "cell_type": "markdown",
   "metadata": {
    "_cell_guid": "0cf6d4b2-a1a3-4bfb-a56d-f65477e104dc",
    "_uuid": "92322e701f45a17ead64327643e6f7c9bd8ba15f"
   },
   "source": [
    "**test data**"
   ]
  },
  {
   "cell_type": "code",
   "execution_count": null,
   "metadata": {
    "_cell_guid": "5129f680-1e36-4fa9-9c2a-038e5dfd9db0",
    "_kg_hide-input": true,
    "_uuid": "3f2a48b586fe698253f75a921aa7dba8410345a0",
    "collapsed": true,
    "scrolled": false
   },
   "outputs": [],
   "source": [
    "test.head()"
   ]
  },
  {
   "cell_type": "markdown",
   "metadata": {
    "_cell_guid": "cad87ca4-84a1-4466-9599-fced20f17dcb",
    "_uuid": "7b9072f522438d986f7a2fa0cb0fee722497b492"
   },
   "source": [
    "**periods train data**"
   ]
  },
  {
   "cell_type": "code",
   "execution_count": null,
   "metadata": {
    "_cell_guid": "78de07a3-7e3c-4673-8148-9aa4d138f7c4",
    "_kg_hide-input": true,
    "_uuid": "073f7f0141cd30be91c292439142a16201cbd0aa",
    "collapsed": true
   },
   "outputs": [],
   "source": [
    "periods_train.head()"
   ]
  },
  {
   "cell_type": "markdown",
   "metadata": {
    "_cell_guid": "22da34ee-7b5f-4529-ba45-031acbfe8c99",
    "_uuid": "7b032ea9c52ec61fce42049f98caa19739b723f8"
   },
   "source": [
    "**periods test data**"
   ]
  },
  {
   "cell_type": "code",
   "execution_count": null,
   "metadata": {
    "_cell_guid": "5f812f08-30cb-4d5d-8964-9ff194235f40",
    "_kg_hide-input": true,
    "_uuid": "ff3756f4736b1cfc0f78c7413a52c672886a0c6b",
    "collapsed": true
   },
   "outputs": [],
   "source": [
    "periods_test.head()"
   ]
  },
  {
   "cell_type": "markdown",
   "metadata": {
    "_cell_guid": "cfa24183-51bb-48ee-a416-dddacf613a8e",
    "_uuid": "df89d3f3268e70e8553887563dd816ab5aeb8eae"
   },
   "source": [
    "## <a id='sootd'>3.2 Statistical overview of the Data</a>"
   ]
  },
  {
   "cell_type": "markdown",
   "metadata": {
    "_cell_guid": "74cedad3-bd9b-49b0-a8a0-9bd489eaedec",
    "_uuid": "5a51b23064ee654ff0aafbf2328bc9f6b766cfda"
   },
   "source": [
    "**Training Data some little info**"
   ]
  },
  {
   "cell_type": "code",
   "execution_count": null,
   "metadata": {
    "_cell_guid": "536993aa-6af2-4105-808c-d3a1c58dcf18",
    "_kg_hide-input": true,
    "_uuid": "f2bc9628f3772ed972976a4ae01ad3c5df29a637",
    "collapsed": true
   },
   "outputs": [],
   "source": [
    "train.info()"
   ]
  },
  {
   "cell_type": "markdown",
   "metadata": {
    "_cell_guid": "450b201a-c95b-47ca-a8b3-03f29456452c",
    "_uuid": "6c6e7c355de4a1809afb5ee56992bbb9f6f2751c"
   },
   "source": [
    "**Little description of training data for numerical features**"
   ]
  },
  {
   "cell_type": "code",
   "execution_count": null,
   "metadata": {
    "_cell_guid": "ed949735-9b31-4ce8-9560-f7c425f200a1",
    "_kg_hide-input": true,
    "_uuid": "42973ca59fa1ab57ea951f85291056c4858a5909",
    "collapsed": true
   },
   "outputs": [],
   "source": [
    "train.describe()"
   ]
  },
  {
   "cell_type": "markdown",
   "metadata": {
    "_cell_guid": "b389699e-4708-4f58-ac46-cb28096c938c",
    "_uuid": "5e7247c2106760f37a8d6165deaa568b9fcb55ab"
   },
   "source": [
    "**Little description of training data for categorical features**"
   ]
  },
  {
   "cell_type": "code",
   "execution_count": null,
   "metadata": {
    "_cell_guid": "fa0e4f1e-8967-4b39-be6f-d8d5628175b6",
    "_kg_hide-input": true,
    "_uuid": "c7b72f76685801710492155a95bdfaba79870b10",
    "collapsed": true
   },
   "outputs": [],
   "source": [
    "train.describe(include=[\"O\"])"
   ]
  },
  {
   "cell_type": "markdown",
   "metadata": {
    "_cell_guid": "849a8f47-e3cc-46c2-8ae4-b09f16320ddb",
    "_uuid": "cd8030c8758270083fc80b493ed72e4aaed9a62f"
   },
   "source": [
    "# <a id='dp'>4. Data preparation</a>\n",
    " ## <a id='cfmd'> 4.1 Check for missing data</a>"
   ]
  },
  {
   "cell_type": "markdown",
   "metadata": {
    "_cell_guid": "2c026c36-08e0-4ba1-bbe3-03c022894fcb",
    "_uuid": "78fa29a97a0a70839435942c5b3d74b13b4fc206"
   },
   "source": [
    "**checking missing data in training data **"
   ]
  },
  {
   "cell_type": "code",
   "execution_count": null,
   "metadata": {
    "_cell_guid": "58913142-5158-4961-af1f-fa8ed4f8ea7e",
    "_kg_hide-input": true,
    "_uuid": "95cc0c66b501d5b2f741fd697008363dd8a1899f",
    "collapsed": true
   },
   "outputs": [],
   "source": [
    "# checking missing data in training data \n",
    "total = train.isnull().sum().sort_values(ascending = False)\n",
    "percent = (train.isnull().sum()/train.isnull().count()*100).sort_values(ascending = False)\n",
    "missing_train_data  = pd.concat([total, percent], axis=1, keys=['Total', 'Percent'])\n",
    "missing_train_data.head(10)"
   ]
  },
  {
   "cell_type": "markdown",
   "metadata": {
    "_cell_guid": "f373ba0c-0789-437c-8537-3a198b7999a9",
    "_uuid": "b13b7b4ddf4ff404e0fed3bb26670e42b4e4864a"
   },
   "source": [
    "**checking missing data in periods training data **"
   ]
  },
  {
   "cell_type": "code",
   "execution_count": null,
   "metadata": {
    "_cell_guid": "e8c47508-9a7e-480a-9bb9-26354ca50978",
    "_kg_hide-input": true,
    "_uuid": "21169500b4ffa5e215fe5e971493af840d733c73",
    "collapsed": true
   },
   "outputs": [],
   "source": [
    "# checking missing data in periods data \n",
    "total = periods_train.isnull().sum().sort_values(ascending = False)\n",
    "percent = (periods_train.isnull().sum()/periods_train.isnull().count()*100).sort_values(ascending = False)\n",
    "missing_train_data  = pd.concat([total, percent], axis=1, keys=['Total', 'Percent'])\n",
    "missing_train_data.head()"
   ]
  },
  {
   "cell_type": "markdown",
   "metadata": {
    "_cell_guid": "fe29a079-12b2-4546-9a21-07e75c771165",
    "_uuid": "fde9902eaedb5b96b622a9a23edf0a9b321967d4"
   },
   "source": [
    "# <a id='de'>5. Data Exploration</a>"
   ]
  },
  {
   "cell_type": "markdown",
   "metadata": {
    "_cell_guid": "7548bbf0-8d2e-4965-9f86-f62a4d56a9ea",
    "_uuid": "ffea4f3a719a6d77730086ebfbbb457db738343a"
   },
   "source": [
    "## <a id='hadodp'>5.1 Histogram and distribution of deal probability</a>"
   ]
  },
  {
   "cell_type": "code",
   "execution_count": null,
   "metadata": {
    "_cell_guid": "f0bb689a-9162-49ad-9c29-dc7bb37dfb6c",
    "_kg_hide-input": true,
    "_uuid": "6f105fcba729925b2cbd1673ca8867d7b3afd9fb",
    "collapsed": true
   },
   "outputs": [],
   "source": [
    "plt.figure(figsize = (12, 8))\n",
    "\n",
    "sns.distplot(train['deal_probability'])\n",
    "plt.xlabel('likelihood that an ad actually sold something', fontsize=12)\n",
    "plt.title(\"Histogram of likelihood that an ad actually sold something\")\n",
    "plt.show() \n",
    "plt.figure(figsize = (12, 8))\n",
    "plt.scatter(range(train.shape[0]), np.sort(train.deal_probability.values))\n",
    "plt.xlabel('likelihood that an ad actually sold something', fontsize=12)\n",
    "plt.title(\"Distribution of likelihood that an ad actually sold something\")\n",
    "plt.show()"
   ]
  },
  {
   "cell_type": "markdown",
   "metadata": {
    "_cell_guid": "a7a44f0a-32ea-4c56-8018-778d81481d09",
    "_uuid": "70f1fd2a013e145d3720b89bbeff95751a6bafbe"
   },
   "source": [
    "## <a id='hadoap'>5.2 Histogram and distribution of Ad price</a>"
   ]
  },
  {
   "cell_type": "code",
   "execution_count": null,
   "metadata": {
    "_cell_guid": "3ad0bf3a-da6b-43d2-8029-046f4ea9804a",
    "_kg_hide-input": true,
    "_uuid": "86548eea50a24a638915e5e9c80bfa430ff07a61",
    "collapsed": true
   },
   "outputs": [],
   "source": [
    "plt.figure(figsize = (12, 8))\n",
    "\n",
    "sns.distplot(train['price'].dropna())\n",
    "plt.xlabel('Ad price', fontsize=12)\n",
    "plt.title(\"Histogram of Ad price\")\n",
    "plt.show() \n",
    "plt.figure(figsize = (12, 8))\n",
    "plt.scatter(range(train.shape[0]), np.sort(train.price.values))\n",
    "plt.xlabel('Ad price', fontsize=12)\n",
    "plt.title(\"Distribution of Ad price\")\n",
    "plt.show()"
   ]
  },
  {
   "cell_type": "code",
   "execution_count": null,
   "metadata": {
    "_cell_guid": "0bc08ec7-fa4f-441e-b757-74f4c23a1a8a",
    "_kg_hide-input": true,
    "_uuid": "016254a728db26d08c07831fd3b2e010a3b59ef8",
    "collapsed": true
   },
   "outputs": [],
   "source": [
    "train['deal_class'] = train['deal_probability'].apply(lambda x: \">=0.5\" if x >=0.5 else \"<0.5\")\n",
    "temp = train['deal_class'].value_counts()\n",
    "labels = temp.index\n",
    "sizes = (temp / temp.sum())*100\n",
    "trace = go.Pie(labels=labels, values=sizes, hoverinfo='label+percent')\n",
    "layout = go.Layout(title='Distribution of deal class')\n",
    "data = [trace]\n",
    "fig = go.Figure(data=data, layout=layout)\n",
    "py.iplot(fig)\n",
    "\n",
    "del train['deal_class']"
   ]
  },
  {
   "cell_type": "markdown",
   "metadata": {
    "_cell_guid": "85ee71af-1f3d-41b5-89c4-60ca820e049e",
    "_uuid": "156329242266ea4b593aa2d4cae19f615ad4862b"
   },
   "source": [
    "* Approx 88 % training data having less than 0.5 deal probabilty. Remaining 12 % having probability more than or equal to 0.5."
   ]
  },
  {
   "cell_type": "code",
   "execution_count": null,
   "metadata": {
    "_cell_guid": "dc93a468-e986-4cae-8baf-befab939b791",
    "_kg_hide-input": true,
    "_uuid": "299932d940a398e265f65a10e12d66dff9c14de2",
    "collapsed": true
   },
   "outputs": [],
   "source": [
    "from io import StringIO\n",
    "\n",
    "conversion = StringIO(\"\"\"\n",
    "region,region_english\n",
    "Свердловская область, Sverdlovsk oblast\n",
    "Самарская область, Samara oblast\n",
    "Ростовская область, Rostov oblast\n",
    "Татарстан, Tatarstan\n",
    "Волгоградская область, Volgograd oblast\n",
    "Нижегородская область, Nizhny Novgorod oblast\n",
    "Пермский край, Perm Krai\n",
    "Оренбургская область, Orenburg oblast\n",
    "Ханты-Мансийский АО, Khanty-Mansi Autonomous Okrug\n",
    "Тюменская область, Tyumen oblast\n",
    "Башкортостан, Bashkortostan\n",
    "Краснодарский край, Krasnodar Krai\n",
    "Новосибирская область, Novosibirsk oblast\n",
    "Омская область, Omsk oblast\n",
    "Белгородская область, Belgorod oblast\n",
    "Челябинская область, Chelyabinsk oblast\n",
    "Воронежская область, Voronezh oblast\n",
    "Кемеровская область, Kemerovo oblast\n",
    "Саратовская область, Saratov oblast\n",
    "Владимирская область, Vladimir oblast\n",
    "Калининградская область, Kaliningrad oblast\n",
    "Красноярский край, Krasnoyarsk Krai\n",
    "Ярославская область, Yaroslavl oblast\n",
    "Удмуртия, Udmurtia\n",
    "Алтайский край, Altai Krai\n",
    "Иркутская область, Irkutsk oblast\n",
    "Ставропольский край, Stavropol Krai\n",
    "Тульская область, Tula oblast\n",
    "\"\"\")\n",
    "\n",
    "conversion = pd.read_csv(conversion)\n",
    "train = pd.merge(train, conversion, how=\"left\", on=\"region\")\n"
   ]
  },
  {
   "cell_type": "markdown",
   "metadata": {
    "_cell_guid": "37830567-3f43-4d9a-a5f3-379d835cbec3",
    "_uuid": "af094915b01be5ce64434dcd5ad2319ef0d44afc"
   },
   "source": [
    "## <a id='dodar'>5.3 Distribution of differnet Ad regions</a>"
   ]
  },
  {
   "cell_type": "code",
   "execution_count": null,
   "metadata": {
    "_cell_guid": "457a0bc5-b5dc-4123-9bcc-eb8621dcba2a",
    "_kg_hide-input": true,
    "_uuid": "129267d1cb7b6bd0865075001d50846648544ea6",
    "collapsed": true
   },
   "outputs": [],
   "source": [
    "temp = train['region_english'].value_counts()\n",
    "labels = temp.index\n",
    "sizes = (temp / temp.sum())*100\n",
    "trace = go.Pie(labels=labels, values=sizes, hoverinfo='label+percent')\n",
    "layout = go.Layout(title='Distribution of differnet Ad regions')\n",
    "data = [trace]\n",
    "fig = go.Figure(data=data, layout=layout)\n",
    "py.iplot(fig)"
   ]
  },
  {
   "cell_type": "markdown",
   "metadata": {
    "_cell_guid": "6668b1b2-aba3-4a7d-af7f-f0b73fa19baa",
    "_uuid": "409177353ab12e9fff9b15091d90c681e0759518"
   },
   "source": [
    "## <a id='t'>5.4 Top 10</a> "
   ]
  },
  {
   "cell_type": "markdown",
   "metadata": {
    "_cell_guid": "060b72d1-0fb0-498c-a498-044f8961dee6",
    "_uuid": "e7b98b7a3c82190e303dc88106534d2c470833d2"
   },
   "source": [
    "## <a id='ttat'>5.4.1 Top 10 Ad titles</a>"
   ]
  },
  {
   "cell_type": "code",
   "execution_count": null,
   "metadata": {
    "_cell_guid": "fb66c1e4-67bd-48c2-924c-9eff4f277ef7",
    "_kg_hide-input": true,
    "_uuid": "9610f700f67907e39775945c26120deecd3b8c17",
    "collapsed": true
   },
   "outputs": [],
   "source": [
    "temp = train[\"title\"].value_counts().head(10)\n",
    "print(\"Top 10 Ad titles :\", temp)\n",
    "print(\"Total Ad titles : \",len(train[\"title\"]))\n",
    "trace = go.Bar(\n",
    "    x = temp.index,\n",
    "    y = (temp / temp.sum())*100,\n",
    ")\n",
    "data = [trace]\n",
    "layout = go.Layout(\n",
    "    title = \"Top 10 Ad titles\",\n",
    "    xaxis=dict(\n",
    "        title='Ad title',\n",
    "        tickfont=dict(\n",
    "            size=14,\n",
    "            color='rgb(107, 107, 107)'\n",
    "        )\n",
    "    ),\n",
    "    yaxis=dict(\n",
    "        title='Count of Ad titles in %',\n",
    "        titlefont=dict(\n",
    "            size=16,\n",
    "            color='rgb(107, 107, 107)'\n",
    "        ),\n",
    "        tickfont=dict(\n",
    "            size=14,\n",
    "            color='rgb(107, 107, 107)'\n",
    "        )\n",
    ")\n",
    ")\n",
    "fig = go.Figure(data=data, layout=layout)\n",
    "py.iplot(fig)"
   ]
  },
  {
   "cell_type": "markdown",
   "metadata": {
    "_cell_guid": "a2b2f978-0b73-4ee1-9671-c36da4ade277",
    "_uuid": "d0f58577679b938c2736253ef70d3be46c539047"
   },
   "source": [
    "*** Top 5 Ad titles are :**\n",
    "*  Туфли (Shoes) - 28 %\n",
    "*  Куртка(Jacket) - 12 %\n",
    "* Пальто (Coat)  - 12 %\n",
    "* Джинсы(Jeans) - 9 %\n",
    "* Комбинезон (Overall) - 9 %\n",
    "   "
   ]
  },
  {
   "cell_type": "markdown",
   "metadata": {
    "_cell_guid": "d8330b2d-5282-42c1-9dab-7f7f990e001f",
    "_uuid": "8ac446112b748883291b259193fd1401cdf1a02b"
   },
   "source": [
    "## <a id='ttac'>5.4.2 Top 10 Ad city</a>"
   ]
  },
  {
   "cell_type": "code",
   "execution_count": null,
   "metadata": {
    "_cell_guid": "813b92c0-f82f-4323-be7d-4b8ea85bdd10",
    "_kg_hide-input": true,
    "_uuid": "b3b8af0f9ba4075ccd7a1a2d07e1f52b113ce4b2",
    "collapsed": true,
    "scrolled": true
   },
   "outputs": [],
   "source": [
    "temp = train[\"city\"].value_counts().head(10)\n",
    "print('Top 10 Ad cities :', temp)\n",
    "print(\"Total Ad cities : \",len(train[\"title\"]))\n",
    "trace = go.Bar(\n",
    "    x = temp.index,\n",
    "    y = (temp / temp.sum())*100,\n",
    ")\n",
    "data = [trace]\n",
    "layout = go.Layout(\n",
    "    title = \"Top 10 Ad city\",\n",
    "    xaxis=dict(\n",
    "        title='Ad title name',\n",
    "        tickfont=dict(\n",
    "            size=14,\n",
    "            color='rgb(107, 107, 107)'\n",
    "        )\n",
    "    ),\n",
    "    yaxis=dict(\n",
    "        title='Count of Ad cities in %',\n",
    "        titlefont=dict(\n",
    "            size=16,\n",
    "            color='rgb(107, 107, 107)'\n",
    "        ),\n",
    "        tickfont=dict(\n",
    "            size=14,\n",
    "            color='rgb(107, 107, 107)'\n",
    "        )\n",
    ")\n",
    ")\n",
    "fig = go.Figure(data=data, layout=layout)\n",
    "py.iplot(fig)"
   ]
  },
  {
   "cell_type": "markdown",
   "metadata": {
    "_cell_guid": "66293720-430d-4cd9-b85f-98be1b6a6f94",
    "_uuid": "bc67c45efa0c14391706238c5966a17c4cad3ea2"
   },
   "source": [
    "* **Top 5 Ad cities :**\n",
    "  * Екатеринбург (Yekaterinburg) - 12 %\n",
    "  * Новосибирск (Novosibirsk) - 12 %\n",
    "  * Ростов-на-Дону  (Rostov-on-don) - 11 %\n",
    "  * Нижний Новгород  (Nizhny Novgorod) 10 %\n",
    "  * Челябинск (Chelyabinsk) - 10 %"
   ]
  },
  {
   "cell_type": "markdown",
   "metadata": {
    "_cell_guid": "ba2841c3-3b2f-4ee5-b1ab-95fe898d3463",
    "_uuid": "dd355c87503a4f19e1b60cda110ba392f8e87d7d"
   },
   "source": [
    "## <a id='ttara'>5.4.3 Top 10 Ad regions</a>"
   ]
  },
  {
   "cell_type": "code",
   "execution_count": null,
   "metadata": {
    "_cell_guid": "a82e07e5-0bd7-4abb-a3d7-43d3c353a128",
    "_kg_hide-input": true,
    "_uuid": "6a7e94b3c1579f117352b0d27df679b3033e3a49",
    "collapsed": true
   },
   "outputs": [],
   "source": [
    "temp = train[\"region_english\"].value_counts().head(10)\n",
    "print('Top 10 Ad regions',temp)\n",
    "print(\"Total Ad regions : \",len(train[\"title\"]))\n",
    "trace = go.Bar(\n",
    "    x = temp.index,\n",
    "    y = (temp / temp.sum())*100,\n",
    ")\n",
    "data = [trace]\n",
    "layout = go.Layout(\n",
    "    title = \"Top 10 Ad regions\",\n",
    "    xaxis=dict(\n",
    "        title='Ad region name',\n",
    "        tickfont=dict(\n",
    "            size=14,\n",
    "            color='rgb(107, 107, 107)'\n",
    "        )\n",
    "    ),\n",
    "    yaxis=dict(\n",
    "        title='Count of Ad regions in %',\n",
    "        titlefont=dict(\n",
    "            size=16,\n",
    "            color='rgb(107, 107, 107)'\n",
    "        ),\n",
    "        tickfont=dict(\n",
    "            size=14,\n",
    "            color='rgb(107, 107, 107)'\n",
    "        )\n",
    ")\n",
    ")\n",
    "fig = go.Figure(data=data, layout=layout)\n",
    "py.iplot(fig)"
   ]
  },
  {
   "cell_type": "markdown",
   "metadata": {
    "_cell_guid": "0e06c10a-fe97-4a1a-a1b7-d058a0c3d359",
    "_uuid": "604a836ae410c7e0e56870069679943590ce584f"
   },
   "source": [
    "*** Top 5 Ad regions :**\n",
    "* verdlovsk oblast  - 17 %\n",
    "* Rostov oblast - 12 %\n",
    "* Tatarstan - 11 %\n",
    "* Chelyabinsk oblast - 10 %         \n",
    "* Nizhny Novgorod oblast  - 10 %"
   ]
  },
  {
   "cell_type": "markdown",
   "metadata": {
    "_cell_guid": "0443c72d-1f40-4401-97ff-759e5eccab73",
    "_uuid": "11193dc0123809bfbaa773e5e3e5568a574edf67"
   },
   "source": [
    "## <a id='tttlcalm'>5.4.4 Top 10 Fine grain ad category as classified by Avito's ad mode</a>"
   ]
  },
  {
   "cell_type": "code",
   "execution_count": null,
   "metadata": {
    "_cell_guid": "102706d5-91b8-4e6d-a23f-bf82ba371bf8",
    "_kg_hide-input": true,
    "_uuid": "d2859da42831f39bfde71518db4f99ccf4391216",
    "collapsed": true
   },
   "outputs": [],
   "source": [
    "#https://www.kaggle.com/sudalairajkumar/simple-exploration-notebook-avito\n",
    "conversion = StringIO(\"\"\"\n",
    "category_name,category_name_english\n",
    "\"Одежда, обувь, аксессуары\",\"Clothing, shoes, accessories\"\n",
    "Детская одежда и обувь,Children's clothing and shoes\n",
    "Товары для детей и игрушки,Children's products and toys\n",
    "Квартиры,Apartments\n",
    "Телефоны,Phones\n",
    "Мебель и интерьер,Furniture and interior\n",
    "Предложение услуг,Offer services\n",
    "Автомобили,Cars\n",
    "Ремонт и строительство,Repair and construction\n",
    "Бытовая техника,Appliances\n",
    "Товары для компьютера,Products for computer\n",
    "\"Дома, дачи, коттеджи\",\"Houses, villas, cottages\"\n",
    "Красота и здоровье,Health and beauty\n",
    "Аудио и видео,Audio and video\n",
    "Спорт и отдых,Sports and recreation\n",
    "Коллекционирование,Collecting\n",
    "Оборудование для бизнеса,Equipment for business\n",
    "Земельные участки,Land\n",
    "Часы и украшения,Watches and jewelry\n",
    "Книги и журналы,Books and magazines\n",
    "Собаки,Dogs\n",
    "\"Игры, приставки и программы\",\"Games, consoles and software\"\n",
    "Другие животные,Other animals\n",
    "Велосипеды,Bikes\n",
    "Ноутбуки,Laptops\n",
    "Кошки,Cats\n",
    "Грузовики и спецтехника,Trucks and buses\n",
    "Посуда и товары для кухни,Tableware and goods for kitchen\n",
    "Растения,Plants\n",
    "Планшеты и электронные книги,Tablets and e-books\n",
    "Товары для животных,Pet products\n",
    "Комнаты,Room\n",
    "Фототехника,Photo\n",
    "Коммерческая недвижимость,Commercial property\n",
    "Гаражи и машиноместа,Garages and Parking spaces\n",
    "Музыкальные инструменты,Musical instruments\n",
    "Оргтехника и расходники,Office equipment and consumables\n",
    "Птицы,Birds\n",
    "Продукты питания,Food\n",
    "Мотоциклы и мототехника,Motorcycles and bikes\n",
    "Настольные компьютеры,Desktop computers\n",
    "Аквариум,Aquarium\n",
    "Охота и рыбалка,Hunting and fishing\n",
    "Билеты и путешествия,Tickets and travel\n",
    "Водный транспорт,Water transport\n",
    "Готовый бизнес,Ready business\n",
    "Недвижимость за рубежом,Property abroad\n",
    "\"\"\")\n",
    "\n",
    "conversion = pd.read_csv(conversion)\n",
    "train = pd.merge(train, conversion, on=\"category_name\", how=\"left\")"
   ]
  },
  {
   "cell_type": "code",
   "execution_count": null,
   "metadata": {
    "_cell_guid": "1e036033-f807-4e84-8d21-7de178f8d3a2",
    "_kg_hide-input": true,
    "_uuid": "e9f908099c76e46367287a28c0777fbeebec0cbe",
    "collapsed": true
   },
   "outputs": [],
   "source": [
    "temp = train[\"category_name_english\"].value_counts().head(10)\n",
    "#print(\"Top 10 Fine grain ad category as classified by Avito's ad mode\", temp)\n",
    "print(\"Total Fine grain ad category as classified by Avito's ad mode : \",len(train[\"title\"]))\n",
    "trace = go.Bar(\n",
    "    x = temp.index,\n",
    "    y = (temp / temp.sum())*100,\n",
    ")\n",
    "data = [trace]\n",
    "layout = go.Layout(\n",
    "    title = \"Top 10 Fine grain ad category as classified by Avito's ad mode\",\n",
    "    xaxis=dict(\n",
    "        title='Fine grain ad category as classified by Avitos ad mode',\n",
    "        tickfont=dict(\n",
    "            size=14,\n",
    "            color='rgb(107, 107, 107)'\n",
    "        )\n",
    "    ),\n",
    "    yaxis=dict(\n",
    "        title='Count of Fine grain ad category in %',\n",
    "        titlefont=dict(\n",
    "            size=16,\n",
    "            color='rgb(107, 107, 107)'\n",
    "        ),\n",
    "        tickfont=dict(\n",
    "            size=14,\n",
    "            color='rgb(107, 107, 107)'\n",
    "        )\n",
    ")\n",
    ")\n",
    "fig = go.Figure(data=data, layout=layout)\n",
    "py.iplot(fig)"
   ]
  },
  {
   "cell_type": "markdown",
   "metadata": {
    "_cell_guid": "7fa98c52-7a0e-479b-9830-e2af2934b084",
    "_uuid": "aae9d5862e69cbcc928a9650e32a5f38d6856cae"
   },
   "source": [
    "* **Top 5 Fine grain ad category as classified by Avito's ad mode :**\n",
    " * Clothing, shoes and accessories - 26 %\n",
    " * Children clothing and shoes - 25 %\n",
    " * Childrens product and toys  - 9 %\n",
    " * Apartments - 8 %\n",
    " * Phones - 6 %"
   ]
  },
  {
   "cell_type": "markdown",
   "metadata": {
    "_cell_guid": "87cf6c2b-2667-4eae-b4fd-e23276c33a61",
    "_kg_hide-input": false,
    "_uuid": "62538b034df1e364d1a33caf35bb39f01e493a56"
   },
   "source": [
    "## <a id='ttlcmsd'>5.4.5 Top 10 Top level ad category as classified by Avito's ad model</a>"
   ]
  },
  {
   "cell_type": "code",
   "execution_count": null,
   "metadata": {
    "_cell_guid": "54cb6760-7cba-494f-a890-3fe5d6847c30",
    "_kg_hide-input": true,
    "_uuid": "6f0b727d23efb98cf796aba3e41d2d08a7cfc284",
    "collapsed": true
   },
   "outputs": [],
   "source": [
    "conversion = StringIO(\"\"\"\n",
    "parent_category_name,parent_category_name_english\n",
    "Личные вещи,Personal belongings\n",
    "Для дома и дачи,For the home and garden\n",
    "Бытовая электроника,Consumer electronics\n",
    "Недвижимость,Real estate\n",
    "Хобби и отдых,Hobbies & leisure\n",
    "Транспорт,Transport\n",
    "Услуги,Services\n",
    "Животные,Animals\n",
    "Для бизнеса,For business\n",
    "\"\"\")\n",
    "\n",
    "conversion = pd.read_csv(conversion)\n",
    "train = pd.merge(train, conversion, on=\"parent_category_name\", how=\"left\")"
   ]
  },
  {
   "cell_type": "code",
   "execution_count": null,
   "metadata": {
    "_cell_guid": "81845a2f-73cb-4e32-974b-4ee05de701bb",
    "_kg_hide-input": true,
    "_uuid": "2ba429cfc3d8dc752086f684be1782d96e41365c",
    "collapsed": true
   },
   "outputs": [],
   "source": [
    "temp = train[\"parent_category_name_english\"].value_counts().head(10)\n",
    "print(\"Total Top level ad category as classified by Avito's ad model : \",len(train[\"title\"]))\n",
    "trace = go.Bar(\n",
    "    x = temp.index,\n",
    "    y = (temp / temp.sum())*100,\n",
    ")\n",
    "data = [trace]\n",
    "layout = go.Layout(\n",
    "    title = \"Top 10 Top level ad category as classified by Avito's ad model\",\n",
    "    xaxis=dict(\n",
    "        title='Top level ad category as classified by Avitos ad model',\n",
    "        tickfont=dict(\n",
    "            size=14,\n",
    "            color='rgb(107, 107, 107)'\n",
    "        )\n",
    "    ),\n",
    "    yaxis=dict(\n",
    "        title='Count of Top level ad category in %',\n",
    "        titlefont=dict(\n",
    "            size=16,\n",
    "            color='rgb(107, 107, 107)'\n",
    "        ),\n",
    "        tickfont=dict(\n",
    "            size=14,\n",
    "            color='rgb(107, 107, 107)'\n",
    "        )\n",
    ")\n",
    ")\n",
    "fig = go.Figure(data=data, layout=layout)\n",
    "py.iplot(fig)"
   ]
  },
  {
   "cell_type": "markdown",
   "metadata": {
    "_cell_guid": "4f8078f4-bac7-4cc4-8188-02650bfe03b0",
    "_uuid": "d2832d2b4db6889f85828c921ddd65a023e2e068"
   },
   "source": [
    "*** Top 5 Top level ad category as classified by Avito's ad model :**\n",
    "* Personal belongings - 46 %\n",
    "* For the home and garden - 12 %\n",
    "* Consumer electronics - 12 %\n",
    "* Real estate - 10 %\n",
    "* Hobbies & leisure - 6 %"
   ]
  },
  {
   "cell_type": "markdown",
   "metadata": {
    "_cell_guid": "f13e58f3-092f-412f-9a46-a9e74ea55076",
    "_uuid": "e5a1cff5af4e51a3f5a46e12341aeb7d7653095e"
   },
   "source": [
    "## <a id='pvdpp'>5.5 Price V.S. Deal probability</a>"
   ]
  },
  {
   "cell_type": "code",
   "execution_count": null,
   "metadata": {
    "_cell_guid": "266fc091-530b-4dd3-855f-89e96675ee8a",
    "_kg_hide-input": true,
    "_uuid": "a36550f3f177f94c58dd85b2cf961fe6802a0a55",
    "collapsed": true
   },
   "outputs": [],
   "source": [
    "plt.figure(figsize=(15,6))\n",
    "plt.scatter(np.log(train.price), train.deal_probability)\n",
    "plt.xlabel('Ad price')\n",
    "plt.ylabel('deal probability')\n",
    "plt.show()"
   ]
  },
  {
   "cell_type": "markdown",
   "metadata": {
    "_cell_guid": "42f81024-f38c-4444-b536-eb321a973821",
    "_uuid": "a46739e71d5606d3aa3b1e56da11591c5dd8b2ab"
   },
   "source": [
    "## <a id='5-6'>5.6 Deal probability V.S.  Price for regions</a>"
   ]
  },
  {
   "cell_type": "code",
   "execution_count": null,
   "metadata": {
    "_cell_guid": "b7ebc438-0626-4dcb-887b-9564420a9f3f",
    "_kg_hide-input": true,
    "_uuid": "760080bccb4163fd25bcfd162259171518b4e4c2",
    "collapsed": true
   },
   "outputs": [],
   "source": [
    "populated_states = train[:100]\n",
    "\n",
    "data = [go.Scatter(\n",
    "    y = populated_states['deal_probability'],\n",
    "    x = populated_states['price'],\n",
    "    mode='markers+text',\n",
    "    marker=dict(\n",
    "        size= np.log(populated_states.price) - 2,\n",
    "        color=populated_states['deal_probability'],\n",
    "        colorscale='Portland',\n",
    "        showscale=True\n",
    "    ),\n",
    "    text=populated_states['region_english'],\n",
    "    textposition=[\"top center\"]\n",
    ")]\n",
    "layout = go.Layout(\n",
    "    title='Deal probability V.S.  Price for regions',\n",
    "    xaxis= dict(title='Ad price'),\n",
    "    yaxis=dict(title='deal probability')\n",
    ")\n",
    "fig = go.Figure(data=data, layout=layout)\n",
    "py.iplot(fig)"
   ]
  },
  {
   "cell_type": "markdown",
   "metadata": {
    "_cell_guid": "50b6f2a8-aff7-43e2-8a97-75c8162b369b",
    "_uuid": "33a61da9c224a814d77f7dc5bca0159a6a254453"
   },
   "source": [
    "## <a id='dout'>5.7 Distribution of user type</a>"
   ]
  },
  {
   "cell_type": "code",
   "execution_count": null,
   "metadata": {
    "_cell_guid": "3d0e2567-faa1-4093-8212-0f56124a6036",
    "_kg_hide-input": true,
    "_uuid": "c5cd9b9295870b3f1a658fab27af807e06027e91",
    "collapsed": true
   },
   "outputs": [],
   "source": [
    "temp = train['user_type'].value_counts()\n",
    "labels = temp.index\n",
    "sizes = (temp / temp.sum())*100\n",
    "trace = go.Pie(labels=labels, values=sizes, hoverinfo='label+percent')\n",
    "layout = go.Layout(title='Distribution of user type')\n",
    "data = [trace]\n",
    "fig = go.Figure(data=data, layout=layout)\n",
    "py.iplot(fig)"
   ]
  },
  {
   "cell_type": "markdown",
   "metadata": {
    "_cell_guid": "d210cb76-47f0-4421-83a1-8a3a4b543e1f",
    "_uuid": "d0d09412cb75f94d2f1b310dc08398dd7323fdb2"
   },
   "source": [
    "* **Distribution of user types :**\n",
    "  * Private users constitutes 71.6 % data\n",
    "  * Comapny users constitutes 23.1 % data\n",
    "  * Shop users constitutes 5.35 % data"
   ]
  },
  {
   "cell_type": "markdown",
   "metadata": {
    "_cell_guid": "eb0241a4-e61a-4e60-9bbc-b707a5cb4790",
    "_uuid": "468157b0a8a9a4ea852114ac6520b8b121cb6f8e"
   },
   "source": [
    "## <a id='mdodadr'>5.8 Monthly distribution of Ad prices in different regions </a>"
   ]
  },
  {
   "cell_type": "code",
   "execution_count": null,
   "metadata": {
    "_cell_guid": "b3d1532c-d2b9-482c-819c-7eb0aaae4887",
    "_kg_hide-input": true,
    "_uuid": "4a1cafe52d57a5a1d8ce2cc676e741b41dda6a7a",
    "collapsed": true
   },
   "outputs": [],
   "source": [
    "train['activation_date'] = pd.to_datetime(train['activation_date'])\n",
    "train['month'] = train.activation_date.dt.month\n",
    "pr = train.groupby(['region_english', 'month'])['price'].mean().unstack()\n",
    "#pr = pr.sort_values([12], ascending=False)\n",
    "f, ax = plt.subplots(figsize=(15, 20)) \n",
    "pr = pr.fillna(0)\n",
    "temp = sns.heatmap(pr, cmap='Reds')\n",
    "plt.show()"
   ]
  },
  {
   "cell_type": "markdown",
   "metadata": {
    "_cell_guid": "ca8fbaa7-5f90-4988-93cd-71b16ae4f838",
    "_uuid": "36ca70133a81577d6ce9eff6cf8e5b62b25cfe41"
   },
   "source": [
    "* Highest Ad prices is in **Irkutsk oblast** region followed by **Krasnodar Krai** region."
   ]
  },
  {
   "cell_type": "markdown",
   "metadata": {
    "_cell_guid": "03a263da-62a0-4b29-889b-46da600c1d57",
    "_uuid": "ac06536487c186aeb05a24a570ec4b258ab1dbb0"
   },
   "source": [
    "## <a id='dorpdp'>5.9 Distribution of regions, per deal probability</a>"
   ]
  },
  {
   "cell_type": "code",
   "execution_count": null,
   "metadata": {
    "_cell_guid": "27e51a9f-d14d-4d7f-93c9-ebd9bbc037de",
    "_kg_hide-input": true,
    "_uuid": "bc3e0aa0d45b4192464fc03ecf658ca8861ec535",
    "collapsed": true
   },
   "outputs": [],
   "source": [
    "plt.figure(figsize=(17,8))\n",
    "boxplot = sns.boxplot(x=\"region_english\", y=\"deal_probability\", data=train)\n",
    "boxplot.set(xlabel='', ylabel='')\n",
    "plt.title('Distribution of regions, per deal probability', fontsize=17)\n",
    "plt.xticks(rotation=80, fontsize=17)\n",
    "plt.yticks(fontsize=17)\n",
    "plt.xlabel('region name')\n",
    "plt.ylabel('deal probability')\n",
    "plt.show()\n",
    "\n",
    "_, ax = plt.subplots(figsize=(17, 8))\n",
    "sns.violinplot(ax=ax, x=\"region_english\", y=\"deal_probability\", data=train)\n",
    "plt.title('Distribution of regions, per deal probability', fontsize=17)\n",
    "plt.xticks(rotation=80, fontsize=17)\n",
    "plt.yticks(fontsize=17)\n",
    "plt.xlabel('region name')\n",
    "plt.ylabel('deal probability')\n",
    "plt.show()"
   ]
  },
  {
   "cell_type": "markdown",
   "metadata": {
    "_cell_guid": "5ad2030d-15b9-467f-99f0-1ba7781cfdfb",
    "_uuid": "d65b7964de77ec62cb5867892f1e7bc2940f1591"
   },
   "source": [
    "## <a id='tkfad'>5.10 Top Keywords from Ad description</a>"
   ]
  },
  {
   "cell_type": "code",
   "execution_count": null,
   "metadata": {
    "_cell_guid": "1a08ac80-a2ce-46fd-8838-c7af20738571",
    "_kg_hide-input": true,
    "_uuid": "61ad8cbf3ec10f0891c39e50e9d3a16cf62e46f4",
    "collapsed": true
   },
   "outputs": [],
   "source": [
    "from wordcloud import WordCloud, STOPWORDS\n",
    "names = test[\"description\"][~pd.isnull(test[\"description\"])]\n",
    "#print(names)\n",
    "wordcloud = WordCloud(max_font_size=50, width=600, height=300).generate(' '.join(names))\n",
    "plt.figure(figsize=(15,8))\n",
    "plt.imshow(wordcloud)\n",
    "plt.title(\"Wordcloud for Ad description\", fontsize=35)\n",
    "plt.axis(\"off\")\n",
    "plt.show() "
   ]
  },
  {
   "cell_type": "markdown",
   "metadata": {
    "_cell_guid": "d70538b7-c3f9-47c6-b305-192a2d32b39c",
    "_uuid": "a9b0467c8176c80afb0e408281d929a596ce7147"
   },
   "source": [
    "## <a id='5-11'>5.11 Ad sequential number for user V.S. deal probability</a>"
   ]
  },
  {
   "cell_type": "code",
   "execution_count": null,
   "metadata": {
    "_cell_guid": "028f9991-3773-4f0f-a486-0a3debc4efb3",
    "_kg_hide-input": true,
    "_uuid": "b1ee571bbcc15fd2e5aac9b71ac510d5f21c3eeb",
    "collapsed": true
   },
   "outputs": [],
   "source": [
    "plt.figure(figsize=(15,6))\n",
    "plt.scatter(train.item_seq_number, train.deal_probability)\n",
    "plt.xlabel('Ad sequential number for user')\n",
    "plt.ylabel('deal probability')\n",
    "plt.show()"
   ]
  },
  {
   "cell_type": "markdown",
   "metadata": {
    "_cell_guid": "2714ab06-d373-40f1-94ea-8c880663b720",
    "_uuid": "73529954e11d43ccf4b245639a20e444638bd8a7"
   },
   "source": [
    "## <a id='5-12'>5.12 Deal probability V.S. Ad sequential number for user for regions</a>"
   ]
  },
  {
   "cell_type": "code",
   "execution_count": null,
   "metadata": {
    "_cell_guid": "5e90017e-82b7-4046-90df-39c93140694a",
    "_kg_hide-input": true,
    "_uuid": "b537a17c266b2aaf6aed9ad6bdf265b80b651427",
    "collapsed": true
   },
   "outputs": [],
   "source": [
    "populated_regions = train[:50]\n",
    "\n",
    "data = [go.Scatter(\n",
    "    y = populated_regions['deal_probability'],\n",
    "    x = populated_regions['item_seq_number'],\n",
    "    mode='markers+text',\n",
    "    marker=dict(\n",
    "        size= np.log(populated_regions.price) - 2,\n",
    "        color=populated_regions['deal_probability'],\n",
    "        colorscale='Portland',\n",
    "        showscale=True\n",
    "    ),\n",
    "    text=populated_regions['region_english'],\n",
    "    textposition=[\"top center\"]\n",
    ")]\n",
    "layout = go.Layout(\n",
    "    title='Deal probability V.S. Ad sequential number for user for regions',\n",
    "    xaxis= dict(title='Ad sequential number for user'),\n",
    "    yaxis=dict(title='deal probability')\n",
    ")\n",
    "fig = go.Figure(data=data, layout=layout)\n",
    "py.iplot(fig)"
   ]
  },
  {
   "cell_type": "markdown",
   "metadata": {
    "_cell_guid": "e14b88b9-a8bc-4da3-8155-cc4c72ef1223",
    "_uuid": "fc9f8eb6f204cae89cd454c3390bf9e086b54a67"
   },
   "source": [
    "## <a id='5-13'>5.13 Number of words in description column</a>"
   ]
  },
  {
   "cell_type": "code",
   "execution_count": null,
   "metadata": {
    "_cell_guid": "55582e44-3861-4ee9-86ad-afff24dc5617",
    "_kg_hide-input": true,
    "_uuid": "d538c4d920831774539f3d93bb4dabd75db04405",
    "collapsed": true
   },
   "outputs": [],
   "source": [
    "train[\"description\"].fillna(\"NA\", inplace=True)\n",
    "train[\"desc_numOfWords\"] = train[\"description\"].apply(lambda x: len(x.split()))\n",
    "temp = train[\"desc_numOfWords\"].value_counts().head(80)\n",
    "trace = go.Bar(\n",
    "    x = temp.index,\n",
    "    y = temp.values,\n",
    ")\n",
    "data = [trace]\n",
    "layout = go.Layout(\n",
    "    title = \"Number of words in description column\",\n",
    ")\n",
    "fig = go.Figure(data=data, layout=layout)\n",
    "py.iplot(fig)\n",
    "del train[\"desc_numOfWords\"]"
   ]
  },
  {
   "cell_type": "markdown",
   "metadata": {
    "_cell_guid": "e3ceebd8-d4c7-47c3-bdf9-55b101af72f1",
    "_uuid": "206d37f8f83b0d2028e421a18a4543637accc05c"
   },
   "source": [
    "## <a id='vdcgv'>5.14 Venn Diagram(Common Features values in training and test data)</a>"
   ]
  },
  {
   "cell_type": "markdown",
   "metadata": {
    "_cell_guid": "0218228a-2272-4c4b-a3ba-2a933c4ad92c",
    "_uuid": "e1a9934d4f2ccfc175f3acbbccd08799924475e6"
   },
   "source": [
    "* **A Venn diagram uses overlapping circles or other shapes to illustrate the logical relationships between two or more sets of items. Often, they serve to graphically organize things, highlighting how the items are similar and different.**"
   ]
  },
  {
   "cell_type": "code",
   "execution_count": null,
   "metadata": {
    "_cell_guid": "3abed6f6-26a6-44b1-b81d-da449d7bf054",
    "_kg_hide-input": true,
    "_uuid": "ddc8a2fc2e160f5876e29815d77c55d3496eb34d",
    "collapsed": true
   },
   "outputs": [],
   "source": [
    "plt.figure(figsize=(23,13))\n",
    "\n",
    "plt.subplot(321)\n",
    "venn2([set(train.item_id.unique()), set(test.item_id.unique())], set_labels = ('Train set', 'Test set') )\n",
    "plt.title(\"Common items in training and test data\", fontsize=15)\n",
    "#plt.show()\n",
    "\n",
    "#plt.figure(figsize=(15,8))\n",
    "plt.subplot(322)\n",
    "venn2([set(train.user_id.unique()), set(test.user_id.unique())], set_labels = ('Train set', 'Test set') )\n",
    "plt.title(\"Common users in training and test data\", fontsize=15)\n",
    "#plt.show()\n",
    "\n",
    "#plt.figure(figsize=(15,8))\n",
    "plt.subplot(323)\n",
    "venn2([set(train.title.unique()), set(test.title.unique())], set_labels = ('Train set', 'Test set') )\n",
    "plt.title(\"Common Ad titles in training and test data\", fontsize=15)\n",
    "#plt.show()\n",
    "\n",
    "#plt.figure(figsize=(15,8))\n",
    "plt.subplot(324)\n",
    "venn2([set(train.item_seq_number.unique()), set(test.item_seq_number.unique())], set_labels = ('Train set', 'Test set') )\n",
    "plt.title(\"Common Ad sequential number of user in training and test data\", fontsize=15)\n",
    "#plt.show()\n",
    "\n",
    "#plt.figure(figsize=(15,8))\n",
    "plt.subplot(325)\n",
    "venn2([set(train.activation_date.unique()), set(test.activation_date.unique())], set_labels = ('Train set', 'Test set') )\n",
    "plt.title(\"Common Ad Activation dates in training and test data\", fontsize=15)\n",
    "#plt.show()\n",
    "\n",
    "#plt.figure(figsize=(15,8))\n",
    "plt.subplot(326)\n",
    "venn2([set(train.image.unique()), set(test.image.unique())], set_labels = ('Train set', 'Test set') )\n",
    "plt.title(\"Common images in training and test data\", fontsize=15)\n",
    "\n",
    "plt.subplots_adjust(wspace = 0.5, hspace = 0.5,\n",
    "                    top = 0.9)\n",
    "plt.show()"
   ]
  },
  {
   "cell_type": "markdown",
   "metadata": {
    "_cell_guid": "0fa37430-cf26-4291-b37a-118b70170b84",
    "_uuid": "a89cdf7816f9fd753330b1cfa422bde227e26a3e"
   },
   "source": [
    "* **Common items in training and test data :** 0\n",
    "* **Common users in training and test data :** Approx. 68k\n",
    "* **CommonAd titles in training and test data :** Approx. 64K\n",
    "* **CommonAd sequential number of users in training and test data :** Approx. 10k\n",
    "* **CommonAd activation dates in training and test data :** 0\n",
    "* **Common images in training and test data :** 1"
   ]
  },
  {
   "cell_type": "markdown",
   "metadata": {
    "_cell_guid": "a1d66eb2-7f94-4b9d-a6f4-abd21c0730de",
    "_uuid": "23d4e3a9bbf16bcb467c529d17b9b525ccace41b"
   },
   "source": [
    " ## <a id='toapaa'>5.15 Time series Analysis</a>"
   ]
  },
  {
   "cell_type": "markdown",
   "metadata": {
    "_cell_guid": "53b7f664-b25a-46db-9cb0-27d154bf9fd5",
    "_uuid": "87492339692d508548e927fa1a0761cfbc3bf755"
   },
   "source": [
    "## <a id='toadp'>5.15.1 Trend of Ad price</a>"
   ]
  },
  {
   "cell_type": "code",
   "execution_count": null,
   "metadata": {
    "_cell_guid": "2c8af19d-7dd7-4555-84df-595d2b5c2ade",
    "_kg_hide-input": true,
    "_uuid": "65032f308c348be3b239939a9093764de4aef58c",
    "collapsed": true
   },
   "outputs": [],
   "source": [
    "train.posted_time = pd.to_datetime(train['activation_date'])\n",
    "train.index = pd.to_datetime(train['activation_date'])\n",
    "plt.figure(figsize = (12, 8))\n",
    "ax = train['price'].resample('w').sum().plot()\n",
    "#ax = kiva_loans_data['funded_amount'].resample('w').sum().plot()\n",
    "ax.set_ylabel('Price')\n",
    "ax.set_xlabel('day-month')\n",
    "ax.set_xlim((pd.to_datetime(train['activation_date'].min()), \n",
    "             pd.to_datetime(train['activation_date'].max())))\n",
    "ax.legend([\"Ad Price\"])\n",
    "plt.title('Trend of Ad price')"
   ]
  },
  {
   "cell_type": "code",
   "execution_count": null,
   "metadata": {
    "_cell_guid": "31dfdaf8-d7b0-4f14-9757-f2fe9a4d07cc",
    "_kg_hide-input": true,
    "_uuid": "c4f6cc32c156f705c8a45596949eb4ef54b32d0f",
    "collapsed": true
   },
   "outputs": [],
   "source": [
    "df = pd.read_csv('../input/train.csv').set_index('activation_date')\n",
    "df.index = pd.to_datetime(df.index)\n",
    "#df.head()"
   ]
  },
  {
   "cell_type": "code",
   "execution_count": null,
   "metadata": {
    "_cell_guid": "25b07952-66e4-43e2-a800-acbfea439ede",
    "_uuid": "d9aa964815cd7da5f16a363a3aa9957acad1bfaa",
    "collapsed": true
   },
   "outputs": [],
   "source": [
    "df.head()"
   ]
  },
  {
   "cell_type": "markdown",
   "metadata": {
    "_cell_guid": "c331bb41-4a12-46e7-ab76-93b03591e683",
    "_uuid": "41d3e46b3d16f0e705b10f5f53e919be82182fce"
   },
   "source": [
    "## <a id='paetsd'>5.15.2 Price average every two days</a>"
   ]
  },
  {
   "cell_type": "code",
   "execution_count": null,
   "metadata": {
    "_cell_guid": "02d55bfe-5e29-44d6-8587-e209e355c7ee",
    "_kg_hide-input": true,
    "_uuid": "a3cb4d256c95a89d77f19895f29dabbe83836e5a",
    "collapsed": true
   },
   "outputs": [],
   "source": [
    "df[\"price\"].resample(\"2D\").apply([np.mean]).plot()\n",
    "plt.title(\"Price average every two days\")\n",
    "plt.ylabel(\"Price\")"
   ]
  },
  {
   "cell_type": "markdown",
   "metadata": {
    "_cell_guid": "ca7ce1e5-a96e-451a-859f-e27d8477665c",
    "_uuid": "05cc8c1e35b964bd40364ee92920ecb8c092fbcd"
   },
   "source": [
    "## <a id='paeed'>5.15.3 Price average every day</a>"
   ]
  },
  {
   "cell_type": "code",
   "execution_count": null,
   "metadata": {
    "_cell_guid": "2c4b9db7-adff-41d0-a43c-8857efecd504",
    "_kg_hide-input": true,
    "_uuid": "2ac5f983a9a4af7c8942244f45a3b145e72c82bc",
    "collapsed": true
   },
   "outputs": [],
   "source": [
    "df[\"price\"].resample(\"D\").apply([np.mean]).plot()\n",
    "plt.title(\"Price average every day\")\n",
    "plt.ylabel(\"Price\")"
   ]
  },
  {
   "cell_type": "markdown",
   "metadata": {
    "_cell_guid": "b7088fde-9605-455d-9a02-f5d0b6f1cd2f",
    "_uuid": "6fa18f467a4da03413e66c6c2a02eb5979bccf38"
   },
   "source": [
    "## <a id='dapevtr'>5.15.4 Deal probability average every two days</a>"
   ]
  },
  {
   "cell_type": "code",
   "execution_count": null,
   "metadata": {
    "_cell_guid": "3fe9921c-bff9-43ca-ba16-9c0084b356d3",
    "_kg_hide-input": true,
    "_uuid": "80112edc6961f64532fba8eae8f9a826aa471313",
    "collapsed": true
   },
   "outputs": [],
   "source": [
    "df[\"deal_probability\"].resample(\"2D\").apply([np.mean]).plot()\n",
    "plt.title(\"deal probability average every two days\")\n",
    "plt.ylabel(\"deal probability\")"
   ]
  },
  {
   "cell_type": "markdown",
   "metadata": {
    "_cell_guid": "d0f8067a-dca5-4d02-b7ed-6589443d10fa",
    "_uuid": "5b0fec5c571705f9dd1013e1e23b880388779244"
   },
   "source": [
    "## <a id='dapevtttr'>5.15.5 Deal probability average every  days</a>"
   ]
  },
  {
   "cell_type": "code",
   "execution_count": null,
   "metadata": {
    "_cell_guid": "1ff8bd18-5512-43cf-95b6-ed8af1c971ab",
    "_kg_hide-input": true,
    "_uuid": "71538f757b609c057328336312d566307dde8dd7",
    "collapsed": true
   },
   "outputs": [],
   "source": [
    "df[\"deal_probability\"].resample(\"D\").apply([np.mean]).plot()\n",
    "plt.title(\"deal probability average every day\")\n",
    "plt.ylabel(\"deal probability\")"
   ]
  },
  {
   "cell_type": "markdown",
   "metadata": {
    "_cell_guid": "54123ce3-0605-48d5-9fd2-e15158b4438b",
    "_uuid": "639536fd3f43a988a1a83281917928ff6cceb8e9"
   },
   "source": [
    "## <a id='tnodawdjshhs'>5.15.6 Total number of days a Ad was dispalyed when it was posted on particular day</a>"
   ]
  },
  {
   "cell_type": "code",
   "execution_count": null,
   "metadata": {
    "_cell_guid": "95295268-8f4d-48f5-9418-d38723786c9c",
    "_kg_hide-input": true,
    "_uuid": "c185b02c704244bcb998a8543db26efb76ce4a28",
    "collapsed": true
   },
   "outputs": [],
   "source": [
    "periods_train['total_days'] = periods_train['date_to'] - periods_train['date_from']\n",
    "periods_test['total_days'] = periods_test['date_to'] - periods_test['date_from']"
   ]
  },
  {
   "cell_type": "code",
   "execution_count": null,
   "metadata": {
    "_cell_guid": "99f422f5-7268-4ca4-9094-ced8710a1e2f",
    "_kg_hide-input": true,
    "_uuid": "fe250148f29f16a49f3c89f05bc4b1dc8b66cd1d",
    "collapsed": true
   },
   "outputs": [],
   "source": [
    "periods_train.head()"
   ]
  },
  {
   "cell_type": "code",
   "execution_count": null,
   "metadata": {
    "_cell_guid": "6629a639-abc1-4b95-828a-c1b96733077c",
    "_kg_hide-input": true,
    "_uuid": "a5bbc4e54f2edae41487bcf37e4706625d84a1c8",
    "collapsed": true
   },
   "outputs": [],
   "source": [
    "periods_train['total_days_value'] = periods_train['total_days'].dt.days\n",
    "#periods_train['total_days'], _ = zip(*periods_train['total_days'].map(lambda x: x.split(' ')))"
   ]
  },
  {
   "cell_type": "code",
   "execution_count": null,
   "metadata": {
    "_cell_guid": "c26101e4-28a0-4a6d-a6fc-187fd8e0de42",
    "_kg_hide-input": true,
    "_uuid": "c13e196664dd444f8406bfd31e92fc81c6fbf64f",
    "collapsed": true
   },
   "outputs": [],
   "source": [
    "periods_train.head()"
   ]
  },
  {
   "cell_type": "code",
   "execution_count": null,
   "metadata": {
    "_cell_guid": "752db9e3-887d-456c-b4a2-ec7cbef673d2",
    "_kg_hide-input": true,
    "_uuid": "f96f6ece999c4af6f4e3870c53bea735da000cb6",
    "collapsed": true
   },
   "outputs": [],
   "source": [
    "#df = periods_train.set_index('activation_date')\n",
    "periods_train.index = pd.to_datetime(periods_train['activation_date'])\n",
    "plt.figure(figsize = (12, 8))\n",
    "ax = periods_train['total_days_value'].resample('w').sum().plot()\n",
    "#ax = kiva_loans_data['funded_amount'].resample('w').sum().plot()\n",
    "ax.set_ylabel('Total days')\n",
    "ax.set_xlabel('day-month')\n",
    "ax.set_xlim((pd.to_datetime(periods_train['activation_date'].min()), \n",
    "             pd.to_datetime(periods_train['activation_date'].max())))\n",
    "ax.legend([\"Total number of days\"])\n",
    "plt.title('Total number of days a Ad was dispalyed when it was posted on particular day')"
   ]
  },
  {
   "cell_type": "markdown",
   "metadata": {
    "_cell_guid": "082a8c55-5fa1-4dff-9802-e9014fb4fe91",
    "_uuid": "994cf36248927062971a9c475ece1b2ce11f4926"
   },
   "source": [
    "## <a id='fodsbdir'>5.15.7  frequency and pattern of ad activation date in train and test data</a>\n"
   ]
  },
  {
   "cell_type": "code",
   "execution_count": null,
   "metadata": {
    "_cell_guid": "318630c1-83f1-4b98-a67e-38a5161e51ce",
    "_kg_hide-input": true,
    "_uuid": "f93d2442dd5eba6da20dd4213b8eafa7bd94df00",
    "collapsed": true
   },
   "outputs": [],
   "source": [
    "temp = train[\"activation_date\"].value_counts()\n",
    "temp1 = test[\"activation_date\"].value_counts()\n",
    "trace0 = go.Bar(\n",
    "    x = temp.index,\n",
    "    y = (temp / temp.sum())*100,\n",
    "    name = 'Ad activation dates in training data'\n",
    ")\n",
    "trace1 = go.Bar(\n",
    "    x = temp1.index,\n",
    "    y = (temp1 / temp1.sum())*100,\n",
    "    name = 'Ad activation dates in test data'\n",
    ")\n",
    "data = [trace0, trace1]\n",
    "layout = go.Layout(\n",
    "    title = \"frequency and pattern of ad activation date in train and test data\",\n",
    "    xaxis=dict(\n",
    "        title='Ad Activation Date',\n",
    "        tickfont=dict(\n",
    "            size=14,\n",
    "            color='rgb(107, 107, 107)'\n",
    "        )\n",
    "    ),\n",
    "    yaxis=dict(\n",
    "        title='frequency in %',\n",
    "        titlefont=dict(\n",
    "            size=16,\n",
    "            color='rgb(107, 107, 107)'\n",
    "        ),\n",
    "        tickfont=dict(\n",
    "            size=14,\n",
    "            color='rgb(107, 107, 107)'\n",
    "        )\n",
    ")\n",
    ")\n",
    "fig = go.Figure(data=data, layout=layout)\n",
    "py.iplot(fig)"
   ]
  },
  {
   "cell_type": "markdown",
   "metadata": {
    "_cell_guid": "d9cb4719-f218-422a-bfd4-efd3cea76298",
    "_uuid": "e8f305741cb0c92da41e216096c972bc4beb9b6f"
   },
   "source": [
    "* Most Ad activation date range is from 15 march 2017 to 28 March 2017 in training data and in test data the range is 12 April 2017 to 19 April 2017"
   ]
  },
  {
   "cell_type": "markdown",
   "metadata": {
    "_cell_guid": "6cb68066-bcf2-450c-a9fe-0c6bcfb3fbd2",
    "_uuid": "f22ff88cd0df2397a69a28a307be6a7f41ae4008"
   },
   "source": [
    "# <a id='5-15'>6. Feature Engineering</a>"
   ]
  },
  {
   "cell_type": "markdown",
   "metadata": {
    "_cell_guid": "6a609935-5365-41f4-b363-6faf51e38da9",
    "_uuid": "50c13fba09708b30442e54fb22d3a1a740e54708"
   },
   "source": [
    "## <a id='5-15-1'>6.1 Features created from activation_date </a>"
   ]
  },
  {
   "cell_type": "markdown",
   "metadata": {
    "_cell_guid": "9c763d77-5d0a-469c-9e81-7fb28654d213",
    "_uuid": "8df00c08272a5094dfdaecbe7081f69a68e8a3f2"
   },
   "source": [
    "**Total 5 features created from activation_date :**\n",
    "\n",
    " - month\n",
    " - weekday\n",
    " - month_day\n",
    " - year_day"
   ]
  },
  {
   "cell_type": "code",
   "execution_count": null,
   "metadata": {
    "_cell_guid": "5f7ef7d4-62a7-4bc1-b1dd-7b322f0144fe",
    "_kg_hide-input": true,
    "_uuid": "cc7f5ee41086eb68f3dc7c631c90356c9d68b1c6",
    "collapsed": true
   },
   "outputs": [],
   "source": [
    "train['activation_date'] = pd.to_datetime(train['activation_date'])\n",
    "test['activation_date'] = pd.to_datetime(test['activation_date'])\n",
    "\n",
    "# ***** Train data *******\n",
    "train[\"month\"] = train[\"activation_date\"].dt.month\n",
    "train['weekday'] = train['activation_date'].dt.weekday\n",
    "train[\"month_Day\"] = train['activation_date'].dt.day\n",
    "train[\"year_Day\"] = train['activation_date'].dt.dayofyear\n",
    "\n",
    "# ***** Test data *******\n",
    "test[\"month\"] = test[\"activation_date\"].dt.month\n",
    "test['weekday'] = test['activation_date'].dt.weekday\n",
    "test[\"month_Day\"] = test['activation_date'].dt.day\n",
    "test[\"year_Day\"] = test['activation_date'].dt.dayofyear \n"
   ]
  },
  {
   "cell_type": "markdown",
   "metadata": {
    "_cell_guid": "04cd4099-2c5b-4bff-bc6b-0a73468c285d",
    "_uuid": "6c51edef15354e618a360db7bd671590696e55d5"
   },
   "source": [
    "## <a id='5-15-2'>6.2 Featrues created from Ad description</a>"
   ]
  },
  {
   "cell_type": "markdown",
   "metadata": {
    "_cell_guid": "aae0e8f9-a487-48bd-80f5-5ef9c1184b1b",
    "_uuid": "36dc1f2ec9319cd743c7e24dd970fca08801a264"
   },
   "source": [
    "Here we created total 8 features :\n",
    "* **d_length**\n",
    "* **char_count**\n",
    "* **word_count**\n",
    "* **word_density**\n",
    "* **punctuation_count**\n",
    "* **title_word_count**\n",
    "* **upper_case_word_count**\n",
    "* **stopword_count**"
   ]
  },
  {
   "cell_type": "code",
   "execution_count": null,
   "metadata": {
    "_cell_guid": "ccd42558-60a4-4541-9d4c-282f0b8addc9",
    "_kg_hide-input": true,
    "_uuid": "38e655864b2fd826ab33b474bca8b225b1b6c4c7",
    "collapsed": true
   },
   "outputs": [],
   "source": [
    "start_time=time.time()\n",
    "\n",
    "# *******train data *********\n",
    "train['d_length'] = train['description'].apply(lambda x: len(str(x))) \n",
    "train['char_count'] = train['description'].apply(len)\n",
    "train['word_count'] = train['description'].apply(lambda x: len(x.split()))\n",
    "train['word_density'] = train['char_count'] / (train['word_count']+1)\n",
    "train['punctuation_count'] = train['description'].apply(lambda x: len(\"\".join(_ for _ in x if _ in punctuation))) \n",
    "train['title_word_count'] = train['description'].apply(lambda x: len([wrd for wrd in x.split() if wrd.istitle()]))\n",
    "train['upper_case_word_count'] = train['description'].apply(lambda x: len([wrd for wrd in x.split() if wrd.isupper()]))\n",
    "train['stopword_count'] = train['description'].apply(lambda x: len([wrd for wrd in x.split() if wrd.lower() in stop_words]))\n",
    "\n",
    "# *******test data *********\n",
    "test['d_length'] = test['description'].apply(lambda x: len(str(x))) \n",
    "test['char_count'] = test['description'].apply(len)\n",
    "test['word_count'] = test['description'].apply(lambda x: len(x.split()))\n",
    "test['word_density'] = test['char_count'] / (test['word_count']+1)\n",
    "test['punctuation_count'] = test['description'].apply(lambda x: len(\"\".join(_ for _ in x if _ in punctuation))) \n",
    "test['title_word_count'] = test['description'].apply(lambda x: len([wrd for wrd in x.split() if wrd.istitle()]))\n",
    "test['upper_case_word_count'] = test['description'].apply(lambda x: len([wrd for wrd in x.split() if wrd.isupper()]))\n",
    "test['stopword_count'] = test['description'].apply(lambda x: len([wrd for wrd in x.split() if wrd.lower() in stop_words]))\n",
    "\n",
    "end_time=time.time()\n",
    "print(\"total time in the cuurent cell \",end_time-start_time,\"s\")"
   ]
  },
  {
   "cell_type": "markdown",
   "metadata": {
    "_cell_guid": "4e41a25a-74c5-4922-86fa-a8ab8d2959fd",
    "_uuid": "a406cd6e8f00ab33e0bfb5d3ab19d3578c8abb55",
    "collapsed": true
   },
   "source": [
    "## <a id='5-15-3'>6.3 Converting Categorical featues to numericals features</a>"
   ]
  },
  {
   "cell_type": "markdown",
   "metadata": {
    "_cell_guid": "58ce2b9a-d772-4206-9e43-426eef941590",
    "_uuid": "ddb1371ef9ab4974d8ccaf4b2a02585c6135bcac"
   },
   "source": [
    "**Categorical variables are :**\n",
    "   - region\n",
    "   - city\n",
    "   - parent_category_name\n",
    "   - category_name\n",
    "   - user_type\n",
    "   - param_1\n",
    "   - param_2\n",
    "   - param_3"
   ]
  },
  {
   "cell_type": "code",
   "execution_count": null,
   "metadata": {
    "_cell_guid": "44368063-65aa-49e4-b580-4eb7b2c5ec67",
    "_kg_hide-input": true,
    "_uuid": "524053db93600ad2116655e4a6f8bb3dba7d2a52",
    "collapsed": true
   },
   "outputs": [],
   "source": [
    "# Label encode the categorical variables\n",
    "cat_vars = [\"region\", \"city\", \"parent_category_name\", \"category_name\", \"user_type\", \"param_1\", \"param_2\", \"param_3\"]\n",
    "for col in cat_vars:\n",
    "    lb = preprocessing.LabelEncoder()\n",
    "    lb.fit(list(train[col].values.astype('str')) + list(test[col].values.astype('str')))\n",
    "    train[col] = lb.transform(list(train[col].values.astype('str')))\n",
    "    test[col] = lb.transform(list(test[col].values.astype('str')))"
   ]
  },
  {
   "cell_type": "markdown",
   "metadata": {
    "_cell_guid": "b923c4b6-7b02-4408-8a2b-5245ceed4931",
    "_uuid": "1b0e261d790082df710b2cf7d0b4df3265f310dc"
   },
   "source": [
    "## <a id='5-15-4'>6.4  Removing Unwanted features</a>"
   ]
  },
  {
   "cell_type": "markdown",
   "metadata": {
    "_cell_guid": "618ee72e-0b34-4ab0-8ba5-006c98e8f682",
    "_uuid": "dbb0ab06ada8ab2e789ecca36f50b4a194e14d0e"
   },
   "source": [
    "- item_id\n",
    "- user_id\n",
    "- title\n",
    "- description\n",
    "- activation_date\n",
    "- image\n",
    "- region_en\n",
    "- parent_category_name_en\n",
    "- category_name_en\n",
    "- deal_probability"
   ]
  },
  {
   "cell_type": "code",
   "execution_count": null,
   "metadata": {
    "_cell_guid": "07828b3c-1552-46b6-98a9-c34706fa4407",
    "_kg_hide-input": true,
    "_uuid": "38ccd0d92c38a65f1fcb2a490b3ba8299cb0d74e",
    "collapsed": true
   },
   "outputs": [],
   "source": [
    "# Target and ID variables \n",
    "yt = train[\"deal_probability\"].values\n",
    "test_id = test[\"item_id\"].values\n",
    "\n",
    "cols_to_drop = [\"item_id\", \"user_id\", \"title\", \"description\", \"activation_date\", \"image\"]\n",
    "train_df = train.drop(cols_to_drop + [\"region_english\", \"parent_category_name_english\", \"category_name_english\", \"deal_probability\"], axis=1)\n"
   ]
  },
  {
   "cell_type": "markdown",
   "metadata": {
    "_cell_guid": "d6d51c62-884a-4e05-95d9-a4b6df18721c",
    "_uuid": "95157de3ba342e136825c8f3e2537c3dfa24ce26"
   },
   "source": [
    "# <a id='5-16'>7. Pearson Correlation of features</a>"
   ]
  },
  {
   "cell_type": "code",
   "execution_count": null,
   "metadata": {
    "_cell_guid": "7ce21065-9866-470e-9737-eacb1ee0d4e2",
    "_kg_hide-input": true,
    "_uuid": "2ed0853a30935ea53bc088bc7ce55e7c76721fc6",
    "collapsed": true
   },
   "outputs": [],
   "source": [
    "data = [\n",
    "    go.Heatmap(\n",
    "        z= train_df.corr().values,\n",
    "        x=train_df.columns.values,\n",
    "        y=train_df.columns.values,\n",
    "        colorscale='Viridis',\n",
    "        reversescale = False,\n",
    "        text = True ,\n",
    "        opacity = 1.0 )\n",
    "]\n",
    "\n",
    "layout = go.Layout(\n",
    "    title='Pearson Correlation of features',\n",
    "    xaxis = dict(ticks='', nticks=36),\n",
    "    yaxis = dict(ticks='' ),\n",
    "    width = 900, height = 700)\n",
    "\n",
    "fig = go.Figure(data=data, layout=layout)\n",
    "py.iplot(fig, filename='labelled-heatmap')"
   ]
  },
  {
   "cell_type": "markdown",
   "metadata": {
    "_cell_guid": "23644382-0f02-4bed-87bf-34a1cc29f467",
    "_uuid": "144d4e0c035fe44e6895474048691bdb31cf5d48"
   },
   "source": [
    "# <a id='5-17'>8. Feature importance via Gradient Boosting model</a>"
   ]
  },
  {
   "cell_type": "code",
   "execution_count": null,
   "metadata": {
    "_cell_guid": "ef8a6457-395d-4d25-8355-5fe64068f082",
    "_kg_hide-input": true,
    "_uuid": "aecea828674f07ac111cbf3eaf952ec94ab33360",
    "collapsed": true
   },
   "outputs": [],
   "source": [
    "start_time=time.time()\n",
    "\n",
    "train_df.fillna(-1, inplace = True)\n",
    "from sklearn.ensemble import GradientBoostingRegressor\n",
    "gb = GradientBoostingRegressor()\n",
    "gb.fit(train_df, yt)\n",
    "features = train_df.columns.values\n",
    "\n",
    "end_time=time.time()\n",
    "print(\"total time in the cuurent cell \",end_time-start_time,\"s\")"
   ]
  },
  {
   "cell_type": "code",
   "execution_count": null,
   "metadata": {
    "_cell_guid": "c7d4afb1-9bf5-4c3f-80cf-23a23a928066",
    "_kg_hide-input": true,
    "_uuid": "f38b9f8ffd79ddf297bbd98681165ac4c32f8707",
    "collapsed": true
   },
   "outputs": [],
   "source": [
    "# Scatter plot \n",
    "trace = go.Scatter(\n",
    "    y = gb.feature_importances_,\n",
    "    x = features,\n",
    "    mode='markers',\n",
    "    marker=dict(\n",
    "        sizemode = 'diameter',\n",
    "        sizeref = 1,\n",
    "        size = 13,\n",
    "        color = gb.feature_importances_,\n",
    "        colorscale='Portland',\n",
    "        showscale=True\n",
    "    ),\n",
    "    text = features\n",
    ")\n",
    "data = [trace]\n",
    "\n",
    "layout= go.Layout(\n",
    "    autosize= True,\n",
    "    title= 'Gradient Boosting Machine Feature Importance',\n",
    "    hovermode= 'closest',\n",
    "     xaxis= dict(\n",
    "         ticklen= 5,\n",
    "         showgrid=False,\n",
    "        zeroline=False,\n",
    "        showline=False\n",
    "     ),\n",
    "    yaxis=dict(\n",
    "        title= 'Feature Importance',\n",
    "        showgrid=False,\n",
    "        zeroline=False,\n",
    "        ticklen= 5,\n",
    "        gridwidth= 2\n",
    "    ),\n",
    "    showlegend= False\n",
    ")\n",
    "fig = go.Figure(data=data, layout=layout)\n",
    "py.iplot(fig)"
   ]
  },
  {
   "cell_type": "markdown",
   "metadata": {
    "_cell_guid": "da1626fa-8f39-47cc-b5d4-511454706a84",
    "_uuid": "40caa26c34fa1a0a3c4fc964699fe6d77a237ac0"
   },
   "source": [
    "# <a id='5-18'>9. Decision Tree Visualisation</a>"
   ]
  },
  {
   "cell_type": "code",
   "execution_count": null,
   "metadata": {
    "_cell_guid": "9eafab66-9040-4ecb-a71b-3121758ac807",
    "_kg_hide-input": true,
    "_uuid": "dae586265f76ebdd3b5ae13865af05c0463e1f0b",
    "collapsed": true
   },
   "outputs": [],
   "source": [
    "decision_tree = tree.DecisionTreeRegressor(max_depth = 3)\n",
    "decision_tree.fit(train_df, yt)\n",
    "\n",
    "# Export our trained model as a .dot file\n",
    "with open(\"tree1.dot\", 'w') as f:\n",
    "     f = tree.export_graphviz(decision_tree,\n",
    "                              out_file=f,\n",
    "                              max_depth = 4,\n",
    "                              impurity = False,\n",
    "                              feature_names = train_df.columns.values,\n",
    "                              class_names = ['No', 'Yes'],\n",
    "                              rounded = True,\n",
    "                              filled= True )\n",
    "        \n",
    "#Convert .dot to .png to allow display in web notebook\n",
    "check_call(['dot','-Tpng','tree1.dot','-o','tree1.png'])\n",
    "\n",
    "# Annotating chart with PIL\n",
    "img = Image.open(\"tree1.png\")\n",
    "draw = ImageDraw.Draw(img)\n",
    "img.save('sample-out.png')\n",
    "PImage(\"sample-out.png\",)"
   ]
  },
  {
   "cell_type": "markdown",
   "metadata": {
    "_cell_guid": "f8ffbcec-e749-4ccf-a707-992f5c22bd3c",
    "_uuid": "e2a45e824f44f539dbd4da6342c130553eb4ba4a"
   },
   "source": [
    "# <a id='bsc'>10. Brief summary and conclusion :</a>"
   ]
  },
  {
   "cell_type": "markdown",
   "metadata": {
    "_cell_guid": "e5a208fb-fa52-429a-8009-bd4d58369df1",
    "_uuid": "a909ea107188ee9950c04a12fe758aad531ab8e4"
   },
   "source": [
    "## This is only a brief summary if want more details please go through my Notebook."
   ]
  },
  {
   "cell_type": "markdown",
   "metadata": {
    "_cell_guid": "2623ff21-8bec-4c15-bc54-6948a41e1b98",
    "_uuid": "520682583a87b8740633704299bff6a305aac314"
   },
   "source": [
    "* Approx 88 % training data having less than 0.5 deal probabilty. Remaining 12 % having probability more than or equal to 0.5.\n",
    "*  ** Top 5 Ad titles are :**\n",
    "    *  Туфли (Shoes) - 28 %\n",
    "    *  Куртка(Jacket) - 12 %\n",
    "    * Пальто (Coat)  - 12 %\n",
    "    * Джинсы(Jeans) - 9 %\n",
    "    * Комбинезон (Overall) - 9 %\n",
    "* **Top 5 Ad cities :**\n",
    "  * Екатеринбург (Yekaterinburg) - 12 %\n",
    "  * Новосибирск (Novosibirsk) - 12 %\n",
    "  * Ростов-на-Дону  (Rostov-on-don) - 11 %\n",
    "  * Нижний Новгород  (Nizhny Novgorod) 10 %\n",
    "  * Челябинск (Chelyabinsk) - 10 %\n",
    "* ** Top 5 Ad regions :**\n",
    "  * verdlovsk oblast  - 17 %\n",
    "  * Rostov oblast - 12 %\n",
    "  * Tatarstan - 11 %\n",
    "  * Chelyabinsk oblast - 10 %         \n",
    "  * Nizhny Novgorod oblast  - 10 %\n",
    "* **Top 5 Fine grain ad category as classified by Avito's ad mode :**\n",
    "  * Clothing, shoes and accessories - 26 %\n",
    "  * Children clothing and shoes - 25 %\n",
    "  * Childrens product and toys  - 9 %\n",
    "  * Apartments - 8 %\n",
    "  * Phones - 6 %\n",
    "* ** Top 5 Top level ad category as classified by Avito's ad model :**\n",
    "   * Personal belongings - 46 %\n",
    "   * For the home and garden - 12 %\n",
    "   * Consumer electronics - 12 %\n",
    "   * Real estate - 10 %\n",
    "   * Hobbies & leisure - 6 %\n",
    "* **Distribution of user types :**\n",
    "  * Private users constitutes 71.6 % data\n",
    "  * Comapny users constitutes 23.1 % data\n",
    "  * Shop users constitutes 5.35 % data\n",
    "* Common Features values in training and test data : \n",
    "   * **Common items in training and test data :** 0\n",
    "   * **Common users in training and test data :** Approx. 68k\n",
    "   * **CommonAd titles in training and test data :** Approx. 64K\n",
    "   * **CommonAd sequential number of users in training and test data :** Approx. 10k\n",
    "   * **CommonAd activation dates in training and test data :** 0\n",
    "   * **Common images in training and test data :** 1\n",
    "* Highest Ad prices is in **Irkutsk oblast** region followed by **Krasnodar Krai** region.  \n",
    "* Most Ad activation date range is from 15 march 2017 to 28 March 2017 in training data and in test data the range is 12 April 2017 to 19 April 2017"
   ]
  },
  {
   "cell_type": "markdown",
   "metadata": {
    "_cell_guid": "8d12503a-1b07-4cf9-a10a-dfe4af87ebce",
    "_uuid": "5b97ec94ac9088ccf43665c9216ff67826161937"
   },
   "source": [
    "# More to come. Stayed Tuned !!"
   ]
  }
 ],
 "metadata": {
  "kernelspec": {
   "display_name": "Python 3",
   "language": "python",
   "name": "python3"
  },
  "language_info": {
   "codemirror_mode": {
    "name": "ipython",
    "version": 3
   },
   "file_extension": ".py",
   "mimetype": "text/x-python",
   "name": "python",
   "nbconvert_exporter": "python",
   "pygments_lexer": "ipython3",
   "version": "3.6.4"
  },
  "toc": {
   "nav_menu": {},
   "number_sections": true,
   "sideBar": true,
   "skip_h1_title": false,
   "title_cell": "Table of Contents",
   "title_sidebar": "Contents",
   "toc_cell": false,
   "toc_position": {},
   "toc_section_display": true,
   "toc_window_display": true
  }
 },
 "nbformat": 4,
 "nbformat_minor": 1
}
